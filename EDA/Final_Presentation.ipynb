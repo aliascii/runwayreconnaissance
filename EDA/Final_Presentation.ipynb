{
 "cells": [
  {
   "cell_type": "code",
   "execution_count": 4,
   "id": "6e6494bd-b4d0-4ae2-8abc-eb0b22cc7001",
   "metadata": {},
   "outputs": [
    {
     "data": {
      "text/html": [
       "<div>\n",
       "<style scoped>\n",
       "    .dataframe tbody tr th:only-of-type {\n",
       "        vertical-align: middle;\n",
       "    }\n",
       "\n",
       "    .dataframe tbody tr th {\n",
       "        vertical-align: top;\n",
       "    }\n",
       "\n",
       "    .dataframe thead th {\n",
       "        text-align: right;\n",
       "    }\n",
       "</style>\n",
       "<table border=\"1\" class=\"dataframe\">\n",
       "  <thead>\n",
       "    <tr style=\"text-align: right;\">\n",
       "      <th></th>\n",
       "      <th>filename</th>\n",
       "      <th>class</th>\n",
       "      <th>brand</th>\n",
       "      <th>category</th>\n",
       "      <th>style</th>\n",
       "      <th>color</th>\n",
       "      <th>material</th>\n",
       "      <th>fashion</th>\n",
       "      <th>sku</th>\n",
       "    </tr>\n",
       "  </thead>\n",
       "  <tbody>\n",
       "    <tr>\n",
       "      <th>0</th>\n",
       "      <td>dior_fw23_31</td>\n",
       "      <td>04_vest</td>\n",
       "      <td>dior</td>\n",
       "      <td>tops</td>\n",
       "      <td>04_vest_sku</td>\n",
       "      <td>beige</td>\n",
       "      <td>velvet</td>\n",
       "      <td>NaN</td>\n",
       "      <td>vest</td>\n",
       "    </tr>\n",
       "    <tr>\n",
       "      <th>1</th>\n",
       "      <td>dior_fw23_31</td>\n",
       "      <td>04_beige</td>\n",
       "      <td>dior</td>\n",
       "      <td>tops</td>\n",
       "      <td>04_beige_color</td>\n",
       "      <td>beige</td>\n",
       "      <td>velvet</td>\n",
       "      <td>NaN</td>\n",
       "      <td>vest</td>\n",
       "    </tr>\n",
       "    <tr>\n",
       "      <th>2</th>\n",
       "      <td>dior_fw23_31</td>\n",
       "      <td>04_velvet</td>\n",
       "      <td>dior</td>\n",
       "      <td>tops</td>\n",
       "      <td>04_velvet_material</td>\n",
       "      <td>beige</td>\n",
       "      <td>velvet</td>\n",
       "      <td>NaN</td>\n",
       "      <td>vest</td>\n",
       "    </tr>\n",
       "    <tr>\n",
       "      <th>3</th>\n",
       "      <td>dior_fw23_31</td>\n",
       "      <td>05_handbag</td>\n",
       "      <td>dior</td>\n",
       "      <td>bags</td>\n",
       "      <td>05_handbag_sku</td>\n",
       "      <td>brown</td>\n",
       "      <td>leather</td>\n",
       "      <td>NaN</td>\n",
       "      <td>handbag</td>\n",
       "    </tr>\n",
       "    <tr>\n",
       "      <th>4</th>\n",
       "      <td>dior_fw23_31</td>\n",
       "      <td>05_brown</td>\n",
       "      <td>dior</td>\n",
       "      <td>bags</td>\n",
       "      <td>05_brown_color</td>\n",
       "      <td>brown</td>\n",
       "      <td>leather</td>\n",
       "      <td>NaN</td>\n",
       "      <td>handbag</td>\n",
       "    </tr>\n",
       "    <tr>\n",
       "      <th>...</th>\n",
       "      <td>...</td>\n",
       "      <td>...</td>\n",
       "      <td>...</td>\n",
       "      <td>...</td>\n",
       "      <td>...</td>\n",
       "      <td>...</td>\n",
       "      <td>...</td>\n",
       "      <td>...</td>\n",
       "      <td>...</td>\n",
       "    </tr>\n",
       "    <tr>\n",
       "      <th>2218</th>\n",
       "      <td>dior_fw23_12</td>\n",
       "      <td>07_loosefit</td>\n",
       "      <td>dior</td>\n",
       "      <td>bottoms</td>\n",
       "      <td>07_loosefit_style</td>\n",
       "      <td>grey</td>\n",
       "      <td>silk</td>\n",
       "      <td>loosefit</td>\n",
       "      <td>pants</td>\n",
       "    </tr>\n",
       "    <tr>\n",
       "      <th>2219</th>\n",
       "      <td>dior_fw23_12</td>\n",
       "      <td>07_silk</td>\n",
       "      <td>dior</td>\n",
       "      <td>bottoms</td>\n",
       "      <td>07_silk_material</td>\n",
       "      <td>grey</td>\n",
       "      <td>silk</td>\n",
       "      <td>loosefit</td>\n",
       "      <td>pants</td>\n",
       "    </tr>\n",
       "    <tr>\n",
       "      <th>2220</th>\n",
       "      <td>dior_fw23_12</td>\n",
       "      <td>09_black</td>\n",
       "      <td>dior</td>\n",
       "      <td>shoes</td>\n",
       "      <td>09_black_color</td>\n",
       "      <td>black</td>\n",
       "      <td>rubber</td>\n",
       "      <td>NaN</td>\n",
       "      <td>boots</td>\n",
       "    </tr>\n",
       "    <tr>\n",
       "      <th>2221</th>\n",
       "      <td>dior_fw23_12</td>\n",
       "      <td>09_boot</td>\n",
       "      <td>dior</td>\n",
       "      <td>shoes</td>\n",
       "      <td>09_boots_sku</td>\n",
       "      <td>black</td>\n",
       "      <td>rubber</td>\n",
       "      <td>NaN</td>\n",
       "      <td>boots</td>\n",
       "    </tr>\n",
       "    <tr>\n",
       "      <th>2222</th>\n",
       "      <td>dior_fw23_12</td>\n",
       "      <td>09_rubber</td>\n",
       "      <td>dior</td>\n",
       "      <td>shoes</td>\n",
       "      <td>09_rubber_material</td>\n",
       "      <td>black</td>\n",
       "      <td>rubber</td>\n",
       "      <td>NaN</td>\n",
       "      <td>boots</td>\n",
       "    </tr>\n",
       "  </tbody>\n",
       "</table>\n",
       "<p>2223 rows × 9 columns</p>\n",
       "</div>"
      ],
      "text/plain": [
       "          filename        class brand category               style  color  \\\n",
       "0     dior_fw23_31      04_vest  dior     tops         04_vest_sku  beige   \n",
       "1     dior_fw23_31     04_beige  dior     tops      04_beige_color  beige   \n",
       "2     dior_fw23_31    04_velvet  dior     tops  04_velvet_material  beige   \n",
       "3     dior_fw23_31   05_handbag  dior     bags      05_handbag_sku  brown   \n",
       "4     dior_fw23_31     05_brown  dior     bags      05_brown_color  brown   \n",
       "...            ...          ...   ...      ...                 ...    ...   \n",
       "2218  dior_fw23_12  07_loosefit  dior  bottoms   07_loosefit_style   grey   \n",
       "2219  dior_fw23_12      07_silk  dior  bottoms    07_silk_material   grey   \n",
       "2220  dior_fw23_12     09_black  dior    shoes      09_black_color  black   \n",
       "2221  dior_fw23_12      09_boot  dior    shoes        09_boots_sku  black   \n",
       "2222  dior_fw23_12    09_rubber  dior    shoes  09_rubber_material  black   \n",
       "\n",
       "     material   fashion      sku  \n",
       "0      velvet       NaN     vest  \n",
       "1      velvet       NaN     vest  \n",
       "2      velvet       NaN     vest  \n",
       "3     leather       NaN  handbag  \n",
       "4     leather       NaN  handbag  \n",
       "...       ...       ...      ...  \n",
       "2218     silk  loosefit    pants  \n",
       "2219     silk  loosefit    pants  \n",
       "2220   rubber       NaN    boots  \n",
       "2221   rubber       NaN    boots  \n",
       "2222   rubber       NaN    boots  \n",
       "\n",
       "[2223 rows x 9 columns]"
      ]
     },
     "execution_count": 4,
     "metadata": {},
     "output_type": "execute_result"
    }
   ],
   "source": [
    "import pandas as pd\n",
    "\n",
    "df = pd.read_csv('./fw23_runway.csv')\n",
    "df"
   ]
  },
  {
   "cell_type": "markdown",
   "id": "e3a1fb36-6caa-4d0d-8a10-cf14a399fab3",
   "metadata": {},
   "source": [
    "# Trend Analysis"
   ]
  },
  {
   "cell_type": "code",
   "execution_count": 15,
   "id": "117ad6a6-3dbc-418f-ba01-1831f6597f7a",
   "metadata": {},
   "outputs": [],
   "source": [
    "# Give a sneak peak on the Interpretation: make a bald statement like \"This winter, all men will start wearing skirts\""
   ]
  },
  {
   "cell_type": "markdown",
   "id": "90816ea4-a6db-468d-a6ce-4532a7e72a87",
   "metadata": {},
   "source": [
    "## Micro Perspective"
   ]
  },
  {
   "cell_type": "code",
   "execution_count": null,
   "id": "fae6a94f-bee1-42d5-86b2-804c7ea1df22",
   "metadata": {},
   "outputs": [],
   "source": [
    "# Tops, Bags, Bottoms, Shoes, Outerwear, Accessoires, Bags (give Overview)"
   ]
  },
  {
   "cell_type": "code",
   "execution_count": null,
   "id": "54db09c1-fdfa-4f98-9d40-5569611eb42e",
   "metadata": {},
   "outputs": [],
   "source": []
  },
  {
   "cell_type": "code",
   "execution_count": null,
   "id": "14b82cc6-7213-4a7d-a8e9-78a7152ffa2e",
   "metadata": {},
   "outputs": [],
   "source": [
    "# Colors ( Share of colors ) Bag of words"
   ]
  },
  {
   "cell_type": "code",
   "execution_count": null,
   "id": "9a8a41af-6edd-4e06-8385-253e9a7b87ce",
   "metadata": {},
   "outputs": [],
   "source": [
    "# Material ( Share of materials) Tree Chart"
   ]
  },
  {
   "cell_type": "code",
   "execution_count": 5,
   "id": "3291fed1-17e1-4a5c-b5cc-b1d59360f527",
   "metadata": {},
   "outputs": [],
   "source": [
    "# Fashion (loosefit, oversize, striped)"
   ]
  },
  {
   "cell_type": "code",
   "execution_count": 6,
   "id": "46c4d303-07d1-448f-9156-83eed434b1b6",
   "metadata": {},
   "outputs": [],
   "source": [
    "# SKU (share of skirt in one collection, share of boots in all collections)"
   ]
  },
  {
   "cell_type": "markdown",
   "id": "5c64d9be-7c0b-4e3d-940d-c0376d6eb72e",
   "metadata": {},
   "source": [
    "## Macro Perspective"
   ]
  },
  {
   "cell_type": "code",
   "execution_count": 9,
   "id": "b3b007ca-e75b-494c-93ad-01fe084addef",
   "metadata": {},
   "outputs": [],
   "source": [
    "# Color Trend: Black brown beige white baby blue"
   ]
  },
  {
   "cell_type": "code",
   "execution_count": 10,
   "id": "3a2b1d34-5b49-4977-8d97-407982ad971a",
   "metadata": {},
   "outputs": [],
   "source": [
    "# Material Trend: Silk Wool Leather Cotton jersey"
   ]
  },
  {
   "cell_type": "code",
   "execution_count": 11,
   "id": "8ab3a504-0b8c-4ab1-96af-19899bf96966",
   "metadata": {},
   "outputs": [],
   "source": [
    "# Fashion Trend: Loosefit, Sleeveless, Sheer, Striped, Skirt, distressed, jersey"
   ]
  },
  {
   "cell_type": "code",
   "execution_count": 12,
   "id": "133e82c7-1a9f-48b6-8071-b2ba519fda54",
   "metadata": {},
   "outputs": [],
   "source": [
    "# SKU: Boot to sneaker rate, handbag to totebag rate to backpack, "
   ]
  },
  {
   "cell_type": "markdown",
   "id": "956d127a-1465-46a1-8c43-bf9eca2a74dd",
   "metadata": {},
   "source": [
    "## Interpretation"
   ]
  },
  {
   "cell_type": "code",
   "execution_count": 13,
   "id": "17c66690-183f-46e3-b1c4-add46ef484cb",
   "metadata": {},
   "outputs": [],
   "source": [
    "# what is the general interpretation of these trends?\n",
    "# economic turbulence: rise of distressed and rise of wearing jersey?\n",
    "# the new masculinity: men wearing beigy soft colors, wearing skirts, carrying a purse\n",
    "# What happened to minimalism after the a post-pandemic world?\n",
    "# quiet luxury: wearing logos is so 2000\n"
   ]
  },
  {
   "cell_type": "code",
   "execution_count": null,
   "id": "286ff2b8-8f74-4c64-b1e8-12aa8c8cadf2",
   "metadata": {},
   "outputs": [],
   "source": [
    "# Extra: Sentiment Analysis of words used in the reviews."
   ]
  },
  {
   "cell_type": "markdown",
   "id": "49e043d0-598f-4277-b476-838ab5ffbd8c",
   "metadata": {},
   "source": [
    "# Methodology"
   ]
  },
  {
   "cell_type": "code",
   "execution_count": null,
   "id": "e63a95c3-08d4-4aa1-916e-ce0ac3db23e4",
   "metadata": {},
   "outputs": [],
   "source": [
    "# Define Source\n",
    "# Scrape Images\n",
    "# Annotate with test images\n",
    "# Train Model on test images\n",
    "# Use model on full Data Set to predict classes\n",
    "# Export into a file\n",
    "# Clean Data\n",
    "# Explore Data\n",
    "# Visualise Results\n",
    "# Build Dashboard\n"
   ]
  },
  {
   "cell_type": "markdown",
   "id": "b42e5062-5ef3-42d4-93d7-db75a8093c9a",
   "metadata": {},
   "source": [
    "# Outlook"
   ]
  },
  {
   "cell_type": "code",
   "execution_count": null,
   "id": "370f9913-d992-4f42-935a-31fb4dabbf88",
   "metadata": {},
   "outputs": [],
   "source": [
    "# Include historical data to see development of parameters: use of logo has decreased by x percent\n",
    "# Include historical data to make prediction on what trend is there to stay: white sneakers have been in fashion for x seasons, it is 30% likeliky it will stay the same for next season\n",
    "# Train Model on more classes\n",
    "# Make an interactive dashboard publicly available\n"
   ]
  }
 ],
 "metadata": {
  "kernelspec": {
   "display_name": "Python 3 (ipykernel)",
   "language": "python",
   "name": "python3"
  },
  "language_info": {
   "codemirror_mode": {
    "name": "ipython",
    "version": 3
   },
   "file_extension": ".py",
   "mimetype": "text/x-python",
   "name": "python",
   "nbconvert_exporter": "python",
   "pygments_lexer": "ipython3",
   "version": "3.9.16"
  }
 },
 "nbformat": 4,
 "nbformat_minor": 5
}
